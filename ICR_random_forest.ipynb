{
  "nbformat": 4,
  "nbformat_minor": 0,
  "metadata": {
    "colab": {
      "provenance": []
    },
    "kernelspec": {
      "name": "python3",
      "display_name": "Python 3"
    },
    "language_info": {
      "name": "python"
    }
  },
  "cells": [
    {
      "cell_type": "code",
      "execution_count": 20,
      "metadata": {
        "id": "69xWE_R8HMZ2"
      },
      "outputs": [],
      "source": [
        "import tensorflow as tf\n",
        "import tensorflow_decision_forests as tfdf\n",
        "import pandas as pd\n",
        "import numpy as np\n",
        "import seaborn as sns\n",
        "import matplotlib.pyplot as plt\n",
        "\n",
        "from sklearn.model_selection import KFold"
      ]
    },
    {
      "cell_type": "code",
      "source": [
        "rawData = pd.read_csv('/content/ICR.csv')\n",
        "format(rawData.shape)"
      ],
      "metadata": {
        "colab": {
          "base_uri": "https://localhost:8080/",
          "height": 36
        },
        "id": "vpSnbyXFJHmR",
        "outputId": "eb6d693c-4b36-4bd6-bdcc-0b21a866119e"
      },
      "execution_count": null,
      "outputs": [
        {
          "output_type": "execute_result",
          "data": {
            "text/plain": [
              "'(617, 58)'"
            ],
            "application/vnd.google.colaboratory.intrinsic+json": {
              "type": "string"
            }
          },
          "metadata": {},
          "execution_count": 2
        }
      ]
    },
    {
      "cell_type": "code",
      "source": [
        "rawData.describe()"
      ],
      "metadata": {
        "colab": {
          "base_uri": "https://localhost:8080/",
          "height": 349
        },
        "id": "xcs5T4Bvq9Lh",
        "outputId": "1c41377a-d382-42ba-cd39-17eb5041f211"
      },
      "execution_count": null,
      "outputs": [
        {
          "output_type": "execute_result",
          "data": {
            "text/plain": [
              "               AB            AF           AH          AM          AR  \\\n",
              "count  617.000000    617.000000   617.000000  617.000000  617.000000   \n",
              "mean     0.477149   3502.013221   118.624513   38.968552   10.128242   \n",
              "std      0.468388   2300.322717   127.838950   69.728226   10.518877   \n",
              "min      0.081187    192.593280    85.200147    3.177522    8.138688   \n",
              "25%      0.252107   2197.345480    85.200147   12.270314    8.138688   \n",
              "50%      0.354659   3120.318960    85.200147   20.533110    8.138688   \n",
              "75%      0.559763   4361.637390   113.739540   39.139886    8.138688   \n",
              "max      6.161666  28688.187660  1910.123198  630.518230  178.943634   \n",
              "\n",
              "               AX          AY          AZ           BC           BD   ...  \\\n",
              "count  617.000000  617.000000  617.000000   617.000000    617.000000  ...   \n",
              "mean     5.545576    0.060320   10.566447     8.053012   5350.388655  ...   \n",
              "std      2.551696    0.416817    4.350645    65.166943   3021.326641  ...   \n",
              "min      0.699861    0.025578    3.396778     1.229900   1693.624320  ...   \n",
              "25%      4.128294    0.025578    8.129580     1.229900   4155.702870  ...   \n",
              "50%      5.031912    0.025578   10.461320     1.229900   4997.960730  ...   \n",
              "75%      6.431634    0.036845   12.969516     5.081244   6035.885700  ...   \n",
              "max     38.270880   10.315851   38.971568  1463.693448  53060.599240  ...   \n",
              "\n",
              "               FL           FR          FS          GB           GE  \\\n",
              "count  616.000000   617.000000  615.000000  617.000000   617.000000   \n",
              "mean     5.433199     3.533905    0.421501   20.724856   131.714987   \n",
              "std     11.496257    50.181948    1.305365    9.991907   144.181524   \n",
              "min      0.173229     0.497060    0.067730    4.102182    72.611063   \n",
              "25%      0.173229     0.497060    0.067730   14.036718    72.611063   \n",
              "50%      3.028141     1.131000    0.250601   18.771436    72.611063   \n",
              "75%      6.238814     1.512060    0.535067   25.608406   127.591671   \n",
              "max    137.932739  1244.227020   31.365763  135.781294  1497.351958   \n",
              "\n",
              "                  GF          GH          GI          GL       Class  \n",
              "count     617.000000  617.000000  617.000000  616.000000  617.000000  \n",
              "mean    14679.595398   31.489716   50.584437    8.530961    0.175041  \n",
              "std     19352.959387    9.864239   36.266251   10.327010    0.380310  \n",
              "min        13.038894    9.432735    0.897628    0.001129    0.000000  \n",
              "25%      2798.992584   25.034888   23.011684    0.124392    0.000000  \n",
              "50%      7838.273610   30.608946   41.007968    0.337827    0.000000  \n",
              "75%     19035.709240   36.863947   67.931664   21.978000    0.000000  \n",
              "max    143790.071200   81.210825  191.194764   21.978000    1.000000  \n",
              "\n",
              "[8 rows x 56 columns]"
            ],
            "text/html": [
              "\n",
              "  <div id=\"df-9b8c5e14-8040-4e3c-b048-01cddc1ad398\" class=\"colab-df-container\">\n",
              "    <div>\n",
              "<style scoped>\n",
              "    .dataframe tbody tr th:only-of-type {\n",
              "        vertical-align: middle;\n",
              "    }\n",
              "\n",
              "    .dataframe tbody tr th {\n",
              "        vertical-align: top;\n",
              "    }\n",
              "\n",
              "    .dataframe thead th {\n",
              "        text-align: right;\n",
              "    }\n",
              "</style>\n",
              "<table border=\"1\" class=\"dataframe\">\n",
              "  <thead>\n",
              "    <tr style=\"text-align: right;\">\n",
              "      <th></th>\n",
              "      <th>AB</th>\n",
              "      <th>AF</th>\n",
              "      <th>AH</th>\n",
              "      <th>AM</th>\n",
              "      <th>AR</th>\n",
              "      <th>AX</th>\n",
              "      <th>AY</th>\n",
              "      <th>AZ</th>\n",
              "      <th>BC</th>\n",
              "      <th>BD</th>\n",
              "      <th>...</th>\n",
              "      <th>FL</th>\n",
              "      <th>FR</th>\n",
              "      <th>FS</th>\n",
              "      <th>GB</th>\n",
              "      <th>GE</th>\n",
              "      <th>GF</th>\n",
              "      <th>GH</th>\n",
              "      <th>GI</th>\n",
              "      <th>GL</th>\n",
              "      <th>Class</th>\n",
              "    </tr>\n",
              "  </thead>\n",
              "  <tbody>\n",
              "    <tr>\n",
              "      <th>count</th>\n",
              "      <td>617.000000</td>\n",
              "      <td>617.000000</td>\n",
              "      <td>617.000000</td>\n",
              "      <td>617.000000</td>\n",
              "      <td>617.000000</td>\n",
              "      <td>617.000000</td>\n",
              "      <td>617.000000</td>\n",
              "      <td>617.000000</td>\n",
              "      <td>617.000000</td>\n",
              "      <td>617.000000</td>\n",
              "      <td>...</td>\n",
              "      <td>616.000000</td>\n",
              "      <td>617.000000</td>\n",
              "      <td>615.000000</td>\n",
              "      <td>617.000000</td>\n",
              "      <td>617.000000</td>\n",
              "      <td>617.000000</td>\n",
              "      <td>617.000000</td>\n",
              "      <td>617.000000</td>\n",
              "      <td>616.000000</td>\n",
              "      <td>617.000000</td>\n",
              "    </tr>\n",
              "    <tr>\n",
              "      <th>mean</th>\n",
              "      <td>0.477149</td>\n",
              "      <td>3502.013221</td>\n",
              "      <td>118.624513</td>\n",
              "      <td>38.968552</td>\n",
              "      <td>10.128242</td>\n",
              "      <td>5.545576</td>\n",
              "      <td>0.060320</td>\n",
              "      <td>10.566447</td>\n",
              "      <td>8.053012</td>\n",
              "      <td>5350.388655</td>\n",
              "      <td>...</td>\n",
              "      <td>5.433199</td>\n",
              "      <td>3.533905</td>\n",
              "      <td>0.421501</td>\n",
              "      <td>20.724856</td>\n",
              "      <td>131.714987</td>\n",
              "      <td>14679.595398</td>\n",
              "      <td>31.489716</td>\n",
              "      <td>50.584437</td>\n",
              "      <td>8.530961</td>\n",
              "      <td>0.175041</td>\n",
              "    </tr>\n",
              "    <tr>\n",
              "      <th>std</th>\n",
              "      <td>0.468388</td>\n",
              "      <td>2300.322717</td>\n",
              "      <td>127.838950</td>\n",
              "      <td>69.728226</td>\n",
              "      <td>10.518877</td>\n",
              "      <td>2.551696</td>\n",
              "      <td>0.416817</td>\n",
              "      <td>4.350645</td>\n",
              "      <td>65.166943</td>\n",
              "      <td>3021.326641</td>\n",
              "      <td>...</td>\n",
              "      <td>11.496257</td>\n",
              "      <td>50.181948</td>\n",
              "      <td>1.305365</td>\n",
              "      <td>9.991907</td>\n",
              "      <td>144.181524</td>\n",
              "      <td>19352.959387</td>\n",
              "      <td>9.864239</td>\n",
              "      <td>36.266251</td>\n",
              "      <td>10.327010</td>\n",
              "      <td>0.380310</td>\n",
              "    </tr>\n",
              "    <tr>\n",
              "      <th>min</th>\n",
              "      <td>0.081187</td>\n",
              "      <td>192.593280</td>\n",
              "      <td>85.200147</td>\n",
              "      <td>3.177522</td>\n",
              "      <td>8.138688</td>\n",
              "      <td>0.699861</td>\n",
              "      <td>0.025578</td>\n",
              "      <td>3.396778</td>\n",
              "      <td>1.229900</td>\n",
              "      <td>1693.624320</td>\n",
              "      <td>...</td>\n",
              "      <td>0.173229</td>\n",
              "      <td>0.497060</td>\n",
              "      <td>0.067730</td>\n",
              "      <td>4.102182</td>\n",
              "      <td>72.611063</td>\n",
              "      <td>13.038894</td>\n",
              "      <td>9.432735</td>\n",
              "      <td>0.897628</td>\n",
              "      <td>0.001129</td>\n",
              "      <td>0.000000</td>\n",
              "    </tr>\n",
              "    <tr>\n",
              "      <th>25%</th>\n",
              "      <td>0.252107</td>\n",
              "      <td>2197.345480</td>\n",
              "      <td>85.200147</td>\n",
              "      <td>12.270314</td>\n",
              "      <td>8.138688</td>\n",
              "      <td>4.128294</td>\n",
              "      <td>0.025578</td>\n",
              "      <td>8.129580</td>\n",
              "      <td>1.229900</td>\n",
              "      <td>4155.702870</td>\n",
              "      <td>...</td>\n",
              "      <td>0.173229</td>\n",
              "      <td>0.497060</td>\n",
              "      <td>0.067730</td>\n",
              "      <td>14.036718</td>\n",
              "      <td>72.611063</td>\n",
              "      <td>2798.992584</td>\n",
              "      <td>25.034888</td>\n",
              "      <td>23.011684</td>\n",
              "      <td>0.124392</td>\n",
              "      <td>0.000000</td>\n",
              "    </tr>\n",
              "    <tr>\n",
              "      <th>50%</th>\n",
              "      <td>0.354659</td>\n",
              "      <td>3120.318960</td>\n",
              "      <td>85.200147</td>\n",
              "      <td>20.533110</td>\n",
              "      <td>8.138688</td>\n",
              "      <td>5.031912</td>\n",
              "      <td>0.025578</td>\n",
              "      <td>10.461320</td>\n",
              "      <td>1.229900</td>\n",
              "      <td>4997.960730</td>\n",
              "      <td>...</td>\n",
              "      <td>3.028141</td>\n",
              "      <td>1.131000</td>\n",
              "      <td>0.250601</td>\n",
              "      <td>18.771436</td>\n",
              "      <td>72.611063</td>\n",
              "      <td>7838.273610</td>\n",
              "      <td>30.608946</td>\n",
              "      <td>41.007968</td>\n",
              "      <td>0.337827</td>\n",
              "      <td>0.000000</td>\n",
              "    </tr>\n",
              "    <tr>\n",
              "      <th>75%</th>\n",
              "      <td>0.559763</td>\n",
              "      <td>4361.637390</td>\n",
              "      <td>113.739540</td>\n",
              "      <td>39.139886</td>\n",
              "      <td>8.138688</td>\n",
              "      <td>6.431634</td>\n",
              "      <td>0.036845</td>\n",
              "      <td>12.969516</td>\n",
              "      <td>5.081244</td>\n",
              "      <td>6035.885700</td>\n",
              "      <td>...</td>\n",
              "      <td>6.238814</td>\n",
              "      <td>1.512060</td>\n",
              "      <td>0.535067</td>\n",
              "      <td>25.608406</td>\n",
              "      <td>127.591671</td>\n",
              "      <td>19035.709240</td>\n",
              "      <td>36.863947</td>\n",
              "      <td>67.931664</td>\n",
              "      <td>21.978000</td>\n",
              "      <td>0.000000</td>\n",
              "    </tr>\n",
              "    <tr>\n",
              "      <th>max</th>\n",
              "      <td>6.161666</td>\n",
              "      <td>28688.187660</td>\n",
              "      <td>1910.123198</td>\n",
              "      <td>630.518230</td>\n",
              "      <td>178.943634</td>\n",
              "      <td>38.270880</td>\n",
              "      <td>10.315851</td>\n",
              "      <td>38.971568</td>\n",
              "      <td>1463.693448</td>\n",
              "      <td>53060.599240</td>\n",
              "      <td>...</td>\n",
              "      <td>137.932739</td>\n",
              "      <td>1244.227020</td>\n",
              "      <td>31.365763</td>\n",
              "      <td>135.781294</td>\n",
              "      <td>1497.351958</td>\n",
              "      <td>143790.071200</td>\n",
              "      <td>81.210825</td>\n",
              "      <td>191.194764</td>\n",
              "      <td>21.978000</td>\n",
              "      <td>1.000000</td>\n",
              "    </tr>\n",
              "  </tbody>\n",
              "</table>\n",
              "<p>8 rows × 56 columns</p>\n",
              "</div>\n",
              "    <div class=\"colab-df-buttons\">\n",
              "\n",
              "  <div class=\"colab-df-container\">\n",
              "    <button class=\"colab-df-convert\" onclick=\"convertToInteractive('df-9b8c5e14-8040-4e3c-b048-01cddc1ad398')\"\n",
              "            title=\"Convert this dataframe to an interactive table.\"\n",
              "            style=\"display:none;\">\n",
              "\n",
              "  <svg xmlns=\"http://www.w3.org/2000/svg\" height=\"24px\" viewBox=\"0 -960 960 960\">\n",
              "    <path d=\"M120-120v-720h720v720H120Zm60-500h600v-160H180v160Zm220 220h160v-160H400v160Zm0 220h160v-160H400v160ZM180-400h160v-160H180v160Zm440 0h160v-160H620v160ZM180-180h160v-160H180v160Zm440 0h160v-160H620v160Z\"/>\n",
              "  </svg>\n",
              "    </button>\n",
              "\n",
              "  <style>\n",
              "    .colab-df-container {\n",
              "      display:flex;\n",
              "      gap: 12px;\n",
              "    }\n",
              "\n",
              "    .colab-df-convert {\n",
              "      background-color: #E8F0FE;\n",
              "      border: none;\n",
              "      border-radius: 50%;\n",
              "      cursor: pointer;\n",
              "      display: none;\n",
              "      fill: #1967D2;\n",
              "      height: 32px;\n",
              "      padding: 0 0 0 0;\n",
              "      width: 32px;\n",
              "    }\n",
              "\n",
              "    .colab-df-convert:hover {\n",
              "      background-color: #E2EBFA;\n",
              "      box-shadow: 0px 1px 2px rgba(60, 64, 67, 0.3), 0px 1px 3px 1px rgba(60, 64, 67, 0.15);\n",
              "      fill: #174EA6;\n",
              "    }\n",
              "\n",
              "    .colab-df-buttons div {\n",
              "      margin-bottom: 4px;\n",
              "    }\n",
              "\n",
              "    [theme=dark] .colab-df-convert {\n",
              "      background-color: #3B4455;\n",
              "      fill: #D2E3FC;\n",
              "    }\n",
              "\n",
              "    [theme=dark] .colab-df-convert:hover {\n",
              "      background-color: #434B5C;\n",
              "      box-shadow: 0px 1px 3px 1px rgba(0, 0, 0, 0.15);\n",
              "      filter: drop-shadow(0px 1px 2px rgba(0, 0, 0, 0.3));\n",
              "      fill: #FFFFFF;\n",
              "    }\n",
              "  </style>\n",
              "\n",
              "    <script>\n",
              "      const buttonEl =\n",
              "        document.querySelector('#df-9b8c5e14-8040-4e3c-b048-01cddc1ad398 button.colab-df-convert');\n",
              "      buttonEl.style.display =\n",
              "        google.colab.kernel.accessAllowed ? 'block' : 'none';\n",
              "\n",
              "      async function convertToInteractive(key) {\n",
              "        const element = document.querySelector('#df-9b8c5e14-8040-4e3c-b048-01cddc1ad398');\n",
              "        const dataTable =\n",
              "          await google.colab.kernel.invokeFunction('convertToInteractive',\n",
              "                                                    [key], {});\n",
              "        if (!dataTable) return;\n",
              "\n",
              "        const docLinkHtml = 'Like what you see? Visit the ' +\n",
              "          '<a target=\"_blank\" href=https://colab.research.google.com/notebooks/data_table.ipynb>data table notebook</a>'\n",
              "          + ' to learn more about interactive tables.';\n",
              "        element.innerHTML = '';\n",
              "        dataTable['output_type'] = 'display_data';\n",
              "        await google.colab.output.renderOutput(dataTable, element);\n",
              "        const docLink = document.createElement('div');\n",
              "        docLink.innerHTML = docLinkHtml;\n",
              "        element.appendChild(docLink);\n",
              "      }\n",
              "    </script>\n",
              "  </div>\n",
              "\n",
              "\n",
              "<div id=\"df-fcf79b87-84ff-4a36-b807-d2987221c90e\">\n",
              "  <button class=\"colab-df-quickchart\" onclick=\"quickchart('df-fcf79b87-84ff-4a36-b807-d2987221c90e')\"\n",
              "            title=\"Suggest charts.\"\n",
              "            style=\"display:none;\">\n",
              "\n",
              "<svg xmlns=\"http://www.w3.org/2000/svg\" height=\"24px\"viewBox=\"0 0 24 24\"\n",
              "     width=\"24px\">\n",
              "    <g>\n",
              "        <path d=\"M19 3H5c-1.1 0-2 .9-2 2v14c0 1.1.9 2 2 2h14c1.1 0 2-.9 2-2V5c0-1.1-.9-2-2-2zM9 17H7v-7h2v7zm4 0h-2V7h2v10zm4 0h-2v-4h2v4z\"/>\n",
              "    </g>\n",
              "</svg>\n",
              "  </button>\n",
              "\n",
              "<style>\n",
              "  .colab-df-quickchart {\n",
              "    background-color: #E8F0FE;\n",
              "    border: none;\n",
              "    border-radius: 50%;\n",
              "    cursor: pointer;\n",
              "    display: none;\n",
              "    fill: #1967D2;\n",
              "    height: 32px;\n",
              "    padding: 0 0 0 0;\n",
              "    width: 32px;\n",
              "  }\n",
              "\n",
              "  .colab-df-quickchart:hover {\n",
              "    background-color: #E2EBFA;\n",
              "    box-shadow: 0px 1px 2px rgba(60, 64, 67, 0.3), 0px 1px 3px 1px rgba(60, 64, 67, 0.15);\n",
              "    fill: #174EA6;\n",
              "  }\n",
              "\n",
              "  [theme=dark] .colab-df-quickchart {\n",
              "    background-color: #3B4455;\n",
              "    fill: #D2E3FC;\n",
              "  }\n",
              "\n",
              "  [theme=dark] .colab-df-quickchart:hover {\n",
              "    background-color: #434B5C;\n",
              "    box-shadow: 0px 1px 3px 1px rgba(0, 0, 0, 0.15);\n",
              "    filter: drop-shadow(0px 1px 2px rgba(0, 0, 0, 0.3));\n",
              "    fill: #FFFFFF;\n",
              "  }\n",
              "</style>\n",
              "\n",
              "  <script>\n",
              "    async function quickchart(key) {\n",
              "      const charts = await google.colab.kernel.invokeFunction(\n",
              "          'suggestCharts', [key], {});\n",
              "    }\n",
              "    (() => {\n",
              "      let quickchartButtonEl =\n",
              "        document.querySelector('#df-fcf79b87-84ff-4a36-b807-d2987221c90e button');\n",
              "      quickchartButtonEl.style.display =\n",
              "        google.colab.kernel.accessAllowed ? 'block' : 'none';\n",
              "    })();\n",
              "  </script>\n",
              "</div>\n",
              "    </div>\n",
              "  </div>\n"
            ]
          },
          "metadata": {},
          "execution_count": 3
        }
      ]
    },
    {
      "cell_type": "code",
      "source": [
        "rawData.head()"
      ],
      "metadata": {
        "colab": {
          "base_uri": "https://localhost:8080/",
          "height": 255
        },
        "id": "dainRBXwrIwz",
        "outputId": "f2c94f71-2860-4217-88fb-de877a277f71"
      },
      "execution_count": null,
      "outputs": [
        {
          "output_type": "execute_result",
          "data": {
            "text/plain": [
              "             Id        AB          AF          AH         AM        AR  \\\n",
              "0  000ff2bfdfe9  0.209377  3109.03329   85.200147  22.394407  8.138688   \n",
              "1  007255e47698  0.145282   978.76416   85.200147  36.968889  8.138688   \n",
              "2  013f2bd269f5  0.470030  2635.10654   85.200147  32.360553  8.138688   \n",
              "3  043ac50845d5  0.252107  3819.65177  120.201618  77.112203  8.138688   \n",
              "4  044fb8a146ec  0.380297  3733.04844   85.200147  14.103738  8.138688   \n",
              "\n",
              "         AX        AY         AZ          BC  ...        FL        FR  \\\n",
              "0  0.699861  0.025578   9.812214    5.555634  ...  7.298162   1.73855   \n",
              "1  3.632190  0.025578  13.517790    1.229900  ...  0.173229   0.49706   \n",
              "2  6.732840  0.025578  12.824570    1.229900  ...  7.709560   0.97556   \n",
              "3  3.685344  0.025578  11.053708    1.229900  ...  6.122162   0.49706   \n",
              "4  3.942255  0.054810   3.396778  102.151980  ...  8.153058  48.50134   \n",
              "\n",
              "         FS         GB          GE            GF         GH         GI  \\\n",
              "0  0.094822  11.339138   72.611063   2003.810319  22.136229  69.834944   \n",
              "1  0.568932   9.292698   72.611063  27981.562750  29.135430  32.131996   \n",
              "2  1.198821  37.077772   88.609437  13676.957810  28.022851  35.192676   \n",
              "3  0.284466  18.529584   82.416803   2094.262452  39.948656  90.493248   \n",
              "4  0.121914  16.408728  146.109943   8524.370502  45.381316  36.262628   \n",
              "\n",
              "          GL  Class  \n",
              "0   0.120343      1  \n",
              "1  21.978000      0  \n",
              "2   0.196941      0  \n",
              "3   0.155829      0  \n",
              "4   0.096614      1  \n",
              "\n",
              "[5 rows x 58 columns]"
            ],
            "text/html": [
              "\n",
              "  <div id=\"df-f0dc3351-7d28-4682-849b-7a5a3ef64707\" class=\"colab-df-container\">\n",
              "    <div>\n",
              "<style scoped>\n",
              "    .dataframe tbody tr th:only-of-type {\n",
              "        vertical-align: middle;\n",
              "    }\n",
              "\n",
              "    .dataframe tbody tr th {\n",
              "        vertical-align: top;\n",
              "    }\n",
              "\n",
              "    .dataframe thead th {\n",
              "        text-align: right;\n",
              "    }\n",
              "</style>\n",
              "<table border=\"1\" class=\"dataframe\">\n",
              "  <thead>\n",
              "    <tr style=\"text-align: right;\">\n",
              "      <th></th>\n",
              "      <th>Id</th>\n",
              "      <th>AB</th>\n",
              "      <th>AF</th>\n",
              "      <th>AH</th>\n",
              "      <th>AM</th>\n",
              "      <th>AR</th>\n",
              "      <th>AX</th>\n",
              "      <th>AY</th>\n",
              "      <th>AZ</th>\n",
              "      <th>BC</th>\n",
              "      <th>...</th>\n",
              "      <th>FL</th>\n",
              "      <th>FR</th>\n",
              "      <th>FS</th>\n",
              "      <th>GB</th>\n",
              "      <th>GE</th>\n",
              "      <th>GF</th>\n",
              "      <th>GH</th>\n",
              "      <th>GI</th>\n",
              "      <th>GL</th>\n",
              "      <th>Class</th>\n",
              "    </tr>\n",
              "  </thead>\n",
              "  <tbody>\n",
              "    <tr>\n",
              "      <th>0</th>\n",
              "      <td>000ff2bfdfe9</td>\n",
              "      <td>0.209377</td>\n",
              "      <td>3109.03329</td>\n",
              "      <td>85.200147</td>\n",
              "      <td>22.394407</td>\n",
              "      <td>8.138688</td>\n",
              "      <td>0.699861</td>\n",
              "      <td>0.025578</td>\n",
              "      <td>9.812214</td>\n",
              "      <td>5.555634</td>\n",
              "      <td>...</td>\n",
              "      <td>7.298162</td>\n",
              "      <td>1.73855</td>\n",
              "      <td>0.094822</td>\n",
              "      <td>11.339138</td>\n",
              "      <td>72.611063</td>\n",
              "      <td>2003.810319</td>\n",
              "      <td>22.136229</td>\n",
              "      <td>69.834944</td>\n",
              "      <td>0.120343</td>\n",
              "      <td>1</td>\n",
              "    </tr>\n",
              "    <tr>\n",
              "      <th>1</th>\n",
              "      <td>007255e47698</td>\n",
              "      <td>0.145282</td>\n",
              "      <td>978.76416</td>\n",
              "      <td>85.200147</td>\n",
              "      <td>36.968889</td>\n",
              "      <td>8.138688</td>\n",
              "      <td>3.632190</td>\n",
              "      <td>0.025578</td>\n",
              "      <td>13.517790</td>\n",
              "      <td>1.229900</td>\n",
              "      <td>...</td>\n",
              "      <td>0.173229</td>\n",
              "      <td>0.49706</td>\n",
              "      <td>0.568932</td>\n",
              "      <td>9.292698</td>\n",
              "      <td>72.611063</td>\n",
              "      <td>27981.562750</td>\n",
              "      <td>29.135430</td>\n",
              "      <td>32.131996</td>\n",
              "      <td>21.978000</td>\n",
              "      <td>0</td>\n",
              "    </tr>\n",
              "    <tr>\n",
              "      <th>2</th>\n",
              "      <td>013f2bd269f5</td>\n",
              "      <td>0.470030</td>\n",
              "      <td>2635.10654</td>\n",
              "      <td>85.200147</td>\n",
              "      <td>32.360553</td>\n",
              "      <td>8.138688</td>\n",
              "      <td>6.732840</td>\n",
              "      <td>0.025578</td>\n",
              "      <td>12.824570</td>\n",
              "      <td>1.229900</td>\n",
              "      <td>...</td>\n",
              "      <td>7.709560</td>\n",
              "      <td>0.97556</td>\n",
              "      <td>1.198821</td>\n",
              "      <td>37.077772</td>\n",
              "      <td>88.609437</td>\n",
              "      <td>13676.957810</td>\n",
              "      <td>28.022851</td>\n",
              "      <td>35.192676</td>\n",
              "      <td>0.196941</td>\n",
              "      <td>0</td>\n",
              "    </tr>\n",
              "    <tr>\n",
              "      <th>3</th>\n",
              "      <td>043ac50845d5</td>\n",
              "      <td>0.252107</td>\n",
              "      <td>3819.65177</td>\n",
              "      <td>120.201618</td>\n",
              "      <td>77.112203</td>\n",
              "      <td>8.138688</td>\n",
              "      <td>3.685344</td>\n",
              "      <td>0.025578</td>\n",
              "      <td>11.053708</td>\n",
              "      <td>1.229900</td>\n",
              "      <td>...</td>\n",
              "      <td>6.122162</td>\n",
              "      <td>0.49706</td>\n",
              "      <td>0.284466</td>\n",
              "      <td>18.529584</td>\n",
              "      <td>82.416803</td>\n",
              "      <td>2094.262452</td>\n",
              "      <td>39.948656</td>\n",
              "      <td>90.493248</td>\n",
              "      <td>0.155829</td>\n",
              "      <td>0</td>\n",
              "    </tr>\n",
              "    <tr>\n",
              "      <th>4</th>\n",
              "      <td>044fb8a146ec</td>\n",
              "      <td>0.380297</td>\n",
              "      <td>3733.04844</td>\n",
              "      <td>85.200147</td>\n",
              "      <td>14.103738</td>\n",
              "      <td>8.138688</td>\n",
              "      <td>3.942255</td>\n",
              "      <td>0.054810</td>\n",
              "      <td>3.396778</td>\n",
              "      <td>102.151980</td>\n",
              "      <td>...</td>\n",
              "      <td>8.153058</td>\n",
              "      <td>48.50134</td>\n",
              "      <td>0.121914</td>\n",
              "      <td>16.408728</td>\n",
              "      <td>146.109943</td>\n",
              "      <td>8524.370502</td>\n",
              "      <td>45.381316</td>\n",
              "      <td>36.262628</td>\n",
              "      <td>0.096614</td>\n",
              "      <td>1</td>\n",
              "    </tr>\n",
              "  </tbody>\n",
              "</table>\n",
              "<p>5 rows × 58 columns</p>\n",
              "</div>\n",
              "    <div class=\"colab-df-buttons\">\n",
              "\n",
              "  <div class=\"colab-df-container\">\n",
              "    <button class=\"colab-df-convert\" onclick=\"convertToInteractive('df-f0dc3351-7d28-4682-849b-7a5a3ef64707')\"\n",
              "            title=\"Convert this dataframe to an interactive table.\"\n",
              "            style=\"display:none;\">\n",
              "\n",
              "  <svg xmlns=\"http://www.w3.org/2000/svg\" height=\"24px\" viewBox=\"0 -960 960 960\">\n",
              "    <path d=\"M120-120v-720h720v720H120Zm60-500h600v-160H180v160Zm220 220h160v-160H400v160Zm0 220h160v-160H400v160ZM180-400h160v-160H180v160Zm440 0h160v-160H620v160ZM180-180h160v-160H180v160Zm440 0h160v-160H620v160Z\"/>\n",
              "  </svg>\n",
              "    </button>\n",
              "\n",
              "  <style>\n",
              "    .colab-df-container {\n",
              "      display:flex;\n",
              "      gap: 12px;\n",
              "    }\n",
              "\n",
              "    .colab-df-convert {\n",
              "      background-color: #E8F0FE;\n",
              "      border: none;\n",
              "      border-radius: 50%;\n",
              "      cursor: pointer;\n",
              "      display: none;\n",
              "      fill: #1967D2;\n",
              "      height: 32px;\n",
              "      padding: 0 0 0 0;\n",
              "      width: 32px;\n",
              "    }\n",
              "\n",
              "    .colab-df-convert:hover {\n",
              "      background-color: #E2EBFA;\n",
              "      box-shadow: 0px 1px 2px rgba(60, 64, 67, 0.3), 0px 1px 3px 1px rgba(60, 64, 67, 0.15);\n",
              "      fill: #174EA6;\n",
              "    }\n",
              "\n",
              "    .colab-df-buttons div {\n",
              "      margin-bottom: 4px;\n",
              "    }\n",
              "\n",
              "    [theme=dark] .colab-df-convert {\n",
              "      background-color: #3B4455;\n",
              "      fill: #D2E3FC;\n",
              "    }\n",
              "\n",
              "    [theme=dark] .colab-df-convert:hover {\n",
              "      background-color: #434B5C;\n",
              "      box-shadow: 0px 1px 3px 1px rgba(0, 0, 0, 0.15);\n",
              "      filter: drop-shadow(0px 1px 2px rgba(0, 0, 0, 0.3));\n",
              "      fill: #FFFFFF;\n",
              "    }\n",
              "  </style>\n",
              "\n",
              "    <script>\n",
              "      const buttonEl =\n",
              "        document.querySelector('#df-f0dc3351-7d28-4682-849b-7a5a3ef64707 button.colab-df-convert');\n",
              "      buttonEl.style.display =\n",
              "        google.colab.kernel.accessAllowed ? 'block' : 'none';\n",
              "\n",
              "      async function convertToInteractive(key) {\n",
              "        const element = document.querySelector('#df-f0dc3351-7d28-4682-849b-7a5a3ef64707');\n",
              "        const dataTable =\n",
              "          await google.colab.kernel.invokeFunction('convertToInteractive',\n",
              "                                                    [key], {});\n",
              "        if (!dataTable) return;\n",
              "\n",
              "        const docLinkHtml = 'Like what you see? Visit the ' +\n",
              "          '<a target=\"_blank\" href=https://colab.research.google.com/notebooks/data_table.ipynb>data table notebook</a>'\n",
              "          + ' to learn more about interactive tables.';\n",
              "        element.innerHTML = '';\n",
              "        dataTable['output_type'] = 'display_data';\n",
              "        await google.colab.output.renderOutput(dataTable, element);\n",
              "        const docLink = document.createElement('div');\n",
              "        docLink.innerHTML = docLinkHtml;\n",
              "        element.appendChild(docLink);\n",
              "      }\n",
              "    </script>\n",
              "  </div>\n",
              "\n",
              "\n",
              "<div id=\"df-555a2a60-0e02-4abd-b43f-9b2e6a8b5e10\">\n",
              "  <button class=\"colab-df-quickchart\" onclick=\"quickchart('df-555a2a60-0e02-4abd-b43f-9b2e6a8b5e10')\"\n",
              "            title=\"Suggest charts.\"\n",
              "            style=\"display:none;\">\n",
              "\n",
              "<svg xmlns=\"http://www.w3.org/2000/svg\" height=\"24px\"viewBox=\"0 0 24 24\"\n",
              "     width=\"24px\">\n",
              "    <g>\n",
              "        <path d=\"M19 3H5c-1.1 0-2 .9-2 2v14c0 1.1.9 2 2 2h14c1.1 0 2-.9 2-2V5c0-1.1-.9-2-2-2zM9 17H7v-7h2v7zm4 0h-2V7h2v10zm4 0h-2v-4h2v4z\"/>\n",
              "    </g>\n",
              "</svg>\n",
              "  </button>\n",
              "\n",
              "<style>\n",
              "  .colab-df-quickchart {\n",
              "    background-color: #E8F0FE;\n",
              "    border: none;\n",
              "    border-radius: 50%;\n",
              "    cursor: pointer;\n",
              "    display: none;\n",
              "    fill: #1967D2;\n",
              "    height: 32px;\n",
              "    padding: 0 0 0 0;\n",
              "    width: 32px;\n",
              "  }\n",
              "\n",
              "  .colab-df-quickchart:hover {\n",
              "    background-color: #E2EBFA;\n",
              "    box-shadow: 0px 1px 2px rgba(60, 64, 67, 0.3), 0px 1px 3px 1px rgba(60, 64, 67, 0.15);\n",
              "    fill: #174EA6;\n",
              "  }\n",
              "\n",
              "  [theme=dark] .colab-df-quickchart {\n",
              "    background-color: #3B4455;\n",
              "    fill: #D2E3FC;\n",
              "  }\n",
              "\n",
              "  [theme=dark] .colab-df-quickchart:hover {\n",
              "    background-color: #434B5C;\n",
              "    box-shadow: 0px 1px 3px 1px rgba(0, 0, 0, 0.15);\n",
              "    filter: drop-shadow(0px 1px 2px rgba(0, 0, 0, 0.3));\n",
              "    fill: #FFFFFF;\n",
              "  }\n",
              "</style>\n",
              "\n",
              "  <script>\n",
              "    async function quickchart(key) {\n",
              "      const charts = await google.colab.kernel.invokeFunction(\n",
              "          'suggestCharts', [key], {});\n",
              "    }\n",
              "    (() => {\n",
              "      let quickchartButtonEl =\n",
              "        document.querySelector('#df-555a2a60-0e02-4abd-b43f-9b2e6a8b5e10 button');\n",
              "      quickchartButtonEl.style.display =\n",
              "        google.colab.kernel.accessAllowed ? 'block' : 'none';\n",
              "    })();\n",
              "  </script>\n",
              "</div>\n",
              "    </div>\n",
              "  </div>\n"
            ]
          },
          "metadata": {},
          "execution_count": 4
        }
      ]
    },
    {
      "cell_type": "code",
      "source": [
        "plot_df = rawData.Class.value_counts()\n",
        "plot_df.plot(kind=\"pie\")"
      ],
      "metadata": {
        "colab": {
          "base_uri": "https://localhost:8080/",
          "height": 424
        },
        "id": "RrTyngWjKI8J",
        "outputId": "15d2bb1f-541f-4ef3-8e99-180f9a89c52d"
      },
      "execution_count": null,
      "outputs": [
        {
          "output_type": "execute_result",
          "data": {
            "text/plain": [
              "<Axes: ylabel='Class'>"
            ]
          },
          "metadata": {},
          "execution_count": 5
        },
        {
          "output_type": "display_data",
          "data": {
            "text/plain": [
              "<Figure size 640x480 with 1 Axes>"
            ],
            "image/png": "[encoded data removed]"
          },
          "metadata": {}
        }
      ]
    },
    {
      "cell_type": "markdown",
      "source": [
        "so we detected its unbalance dataset"
      ],
      "metadata": {
        "id": "n7TOhl9N4ASp"
      }
    },
    {
      "cell_type": "code",
      "source": [
        "# throw ID column\n",
        "FEATURE_COLUMNS = [i for i in rawData.columns if i not in ['Id']]"
      ],
      "metadata": {
        "id": "TpBQ6BGPg94B"
      },
      "execution_count": null,
      "outputs": []
    },
    {
      "cell_type": "code",
      "source": [
        "# split our small dataset to 5 fold\n",
        "kf = KFold(n_splits=5)"
      ],
      "metadata": {
        "id": "PaVUNz2krM4w"
      },
      "execution_count": null,
      "outputs": []
    },
    {
      "cell_type": "code",
      "source": [
        "# create df for oop(out of fold)\n",
        "oof = pd.DataFrame( data=np.zeros( (len(rawData), 1) ) , index=rawData.index )\n",
        "\n",
        "models = {}\n",
        "accuracy = {}\n",
        "cross_entropy = {}"
      ],
      "metadata": {
        "id": "SpbqrnzqrM2o"
      },
      "execution_count": null,
      "outputs": []
    },
    {
      "cell_type": "code",
      "source": [
        "all_models = tfdf.keras.get_all_models()\n",
        "all_models"
      ],
      "metadata": {
        "colab": {
          "base_uri": "https://localhost:8080/"
        },
        "id": "rWCJDaJCrM0q",
        "outputId": "4c219876-29ee-4d7b-9255-5268857b60d5"
      },
      "execution_count": null,
      "outputs": [
        {
          "output_type": "execute_result",
          "data": {
            "text/plain": [
              "[tensorflow_decision_forests.keras.RandomForestModel,\n",
              " tensorflow_decision_forests.keras.GradientBoostedTreesModel,\n",
              " tensorflow_decision_forests.keras.CartModel,\n",
              " tensorflow_decision_forests.keras.DistributedGradientBoostedTreesModel]"
            ]
          },
          "metadata": {},
          "execution_count": 9
        }
      ]
    },
    {
      "cell_type": "code",
      "source": [
        "# understanding unbalance datas\n",
        "neg , pos = np.bincount( rawData['Class'] )\n",
        "total = neg+pos\n",
        "\n",
        "print( 'percentage of posetive classes is {:.2f}%'.format( 100 * pos / total ))"
      ],
      "metadata": {
        "colab": {
          "base_uri": "https://localhost:8080/"
        },
        "id": "-0tGXqOVrMve",
        "outputId": "c6af3df0-656b-4bd9-9547-40158bd48ab3"
      },
      "execution_count": null,
      "outputs": [
        {
          "output_type": "stream",
          "name": "stdout",
          "text": [
            "percentage of posetive classes is 17.50%\n"
          ]
        }
      ]
    },
    {
      "cell_type": "code",
      "source": [
        "# i choose class weight strategy for dealing this unbalance\n",
        "weight_for_0 = (1 / neg) * (total / 2.0)\n",
        "weight_for_1 = (1 / pos) * (total / 2.0)\n",
        "\n",
        "class_weight = {0: weight_for_0, 1: weight_for_1}\n",
        "\n",
        "print('Weight for class 0: {:.2f}'.format(weight_for_0))\n",
        "print('Weight for class 1: {:.2f}'.format(weight_for_1))"
      ],
      "metadata": {
        "colab": {
          "base_uri": "https://localhost:8080/"
        },
        "id": "7HDZxyosrMte",
        "outputId": "3ed9ddae-ec4e-46ae-f662-23d60e656142"
      },
      "execution_count": null,
      "outputs": [
        {
          "output_type": "stream",
          "name": "stdout",
          "text": [
            "Weight for class 0: 0.61\n",
            "Weight for class 1: 2.86\n"
          ]
        }
      ]
    },
    {
      "cell_type": "code",
      "source": [
        "# set model and  Loop through each fold\n",
        "for i, (train_index, valid_index) in enumerate(kf.split(X=rawData)):\n",
        "        print('##### Fold',i+1)\n",
        "\n",
        "        train_df = rawData.iloc[train_index]\n",
        "        valid_df = rawData.iloc[valid_index]\n",
        "        valid_ids = valid_df.index.values\n",
        "\n",
        "        # Select only feature columns for training.\n",
        "        train_df = train_df[FEATURE_COLUMNS]\n",
        "        valid_df = valid_df[FEATURE_COLUMNS]\n",
        "\n",
        "\n",
        "        train_ds = tfdf.keras.pd_dataframe_to_tf_dataset(train_df, label='Class')\n",
        "        valid_ds = tfdf.keras.pd_dataframe_to_tf_dataset(valid_df, label='Class')\n",
        "\n",
        "\n",
        "        rf = tfdf.keras.RandomForestModel(num_trees=50)\n",
        "        rf.compile( metrics=[\"accuracy\", \"binary_crossentropy\"] )\n",
        "        rf.fit(x=train_ds, class_weight=class_weight)\n",
        "\n",
        "        # Store the model\n",
        "        models[f\"fold_{i+1}\"] = rf\n",
        "\n",
        "\n",
        "        # Predict OOF value for validation data\n",
        "        predict = rf.predict(x=valid_ds)\n",
        "\n",
        "        # Store the predictions in oof dataframe\n",
        "        oof.loc[valid_ids, 0] = predict.flatten()\n",
        "\n",
        "        # Evaluate and store the metrics in respective dicts\n",
        "        evaluation = rf.evaluate(x=valid_ds,return_dict=True)\n",
        "        accuracy[f\"fold_{i+1}\"] = evaluation[\"accuracy\"]\n",
        "        cross_entropy[f\"fold_{i+1}\"]= evaluation[\"binary_crossentropy\"]"
      ],
      "metadata": {
        "colab": {
          "base_uri": "https://localhost:8080/"
        },
        "id": "us3ggd1GitGe",
        "outputId": "765da2b7-6004-46ea-cf08-9adce1eb79ac"
      },
      "execution_count": null,
      "outputs": [
        {
          "output_type": "stream",
          "name": "stdout",
          "text": [
            "##### Fold 1\n",
            "Warning: Some of the feature names have been changed automatically to be compatible with SavedModels because fix_feature_names=True.\n"
          ]
        },
        {
          "output_type": "stream",
          "name": "stderr",
          "text": [
            "WARNING:absl:Some of the feature names have been changed automatically to be compatible with SavedModels because fix_feature_names=True.\n"
          ]
        },
        {
          "output_type": "stream",
          "name": "stdout",
          "text": [
            "Warning: Some of the feature names have been changed automatically to be compatible with SavedModels because fix_feature_names=True.\n"
          ]
        },
        {
          "output_type": "stream",
          "name": "stderr",
          "text": [
            "WARNING:absl:Some of the feature names have been changed automatically to be compatible with SavedModels because fix_feature_names=True.\n"
          ]
        },
        {
          "output_type": "stream",
          "name": "stdout",
          "text": [
            "Use /tmp/tmpewmppnvn as temporary training directory\n",
            "Reading training dataset...\n",
            "Training dataset read in 0:00:09.067552. Found 493 examples.\n",
            "Training model...\n",
            "Model trained in 0:00:00.158352\n",
            "Compiling model...\n"
          ]
        },
        {
          "output_type": "stream",
          "name": "stderr",
          "text": [
            "WARNING:tensorflow:AutoGraph could not transform <function simple_ml_inference_op_with_handle at 0x7f2060af9a20> and will run it as-is.\n",
            "Please report this to the TensorFlow team. When filing the bug, set the verbosity to 10 (on Linux, `export AUTOGRAPH_VERBOSITY=10`) and attach the full output.\n",
            "Cause: could not get source code\n",
            "To silence this warning, decorate the function with @tf.autograph.experimental.do_not_convert\n"
          ]
        },
        {
          "output_type": "stream",
          "name": "stdout",
          "text": [
            "WARNING: AutoGraph could not transform <function simple_ml_inference_op_with_handle at 0x7f2060af9a20> and will run it as-is.\n",
            "Please report this to the TensorFlow team. When filing the bug, set the verbosity to 10 (on Linux, `export AUTOGRAPH_VERBOSITY=10`) and attach the full output.\n",
            "Cause: could not get source code\n",
            "To silence this warning, decorate the function with @tf.autograph.experimental.do_not_convert\n",
            "Model compiled.\n",
            "1/1 [==============================] - 0s 210ms/step\n",
            "1/1 [==============================] - 1s 822ms/step - loss: 0.0000e+00 - accuracy: 0.9355 - binary_crossentropy: 0.2311\n",
            "##### Fold 2\n",
            "Warning: Some of the feature names have been changed automatically to be compatible with SavedModels because fix_feature_names=True.\n"
          ]
        },
        {
          "output_type": "stream",
          "name": "stderr",
          "text": [
            "WARNING:absl:Some of the feature names have been changed automatically to be compatible with SavedModels because fix_feature_names=True.\n"
          ]
        },
        {
          "output_type": "stream",
          "name": "stdout",
          "text": [
            "Warning: Some of the feature names have been changed automatically to be compatible with SavedModels because fix_feature_names=True.\n"
          ]
        },
        {
          "output_type": "stream",
          "name": "stderr",
          "text": [
            "WARNING:absl:Some of the feature names have been changed automatically to be compatible with SavedModels because fix_feature_names=True.\n"
          ]
        },
        {
          "output_type": "stream",
          "name": "stdout",
          "text": [
            "Use /tmp/tmpe3cv6dpr as temporary training directory\n",
            "Reading training dataset...\n",
            "Training dataset read in 0:00:00.986752. Found 493 examples.\n",
            "Training model...\n",
            "Model trained in 0:00:00.099627\n",
            "Compiling model...\n",
            "Model compiled.\n",
            "1/1 [==============================] - 0s 125ms/step\n",
            "1/1 [==============================] - 0s 337ms/step - loss: 0.0000e+00 - accuracy: 0.9113 - binary_crossentropy: 0.2586\n",
            "##### Fold 3\n",
            "Warning: Some of the feature names have been changed automatically to be compatible with SavedModels because fix_feature_names=True.\n"
          ]
        },
        {
          "output_type": "stream",
          "name": "stderr",
          "text": [
            "WARNING:absl:Some of the feature names have been changed automatically to be compatible with SavedModels because fix_feature_names=True.\n"
          ]
        },
        {
          "output_type": "stream",
          "name": "stdout",
          "text": [
            "Warning: Some of the feature names have been changed automatically to be compatible with SavedModels because fix_feature_names=True.\n"
          ]
        },
        {
          "output_type": "stream",
          "name": "stderr",
          "text": [
            "WARNING:absl:Some of the feature names have been changed automatically to be compatible with SavedModels because fix_feature_names=True.\n"
          ]
        },
        {
          "output_type": "stream",
          "name": "stdout",
          "text": [
            "Use /tmp/tmpecusr5eu as temporary training directory\n",
            "Reading training dataset...\n",
            "Training dataset read in 0:00:00.973551. Found 494 examples.\n",
            "Training model...\n",
            "Model trained in 0:00:00.094800\n",
            "Compiling model...\n"
          ]
        },
        {
          "output_type": "stream",
          "name": "stderr",
          "text": [
            "WARNING:tensorflow:5 out of the last 5 calls to <function InferenceCoreModel.make_predict_function.<locals>.predict_function_trained at 0x7f204a214ee0> triggered tf.function retracing. Tracing is expensive and the excessive number of tracings could be due to (1) creating @tf.function repeatedly in a loop, (2) passing tensors with different shapes, (3) passing Python objects instead of tensors. For (1), please define your @tf.function outside of the loop. For (2), @tf.function has reduce_retracing=True option that can avoid unnecessary retracing. For (3), please refer to https://www.tensorflow.org/guide/function#controlling_retracing and https://www.tensorflow.org/api_docs/python/tf/function for  more details.\n"
          ]
        },
        {
          "output_type": "stream",
          "name": "stdout",
          "text": [
            "Model compiled.\n"
          ]
        },
        {
          "output_type": "stream",
          "name": "stderr",
          "text": [
            "WARNING:tensorflow:6 out of the last 6 calls to <function InferenceCoreModel.make_predict_function.<locals>.predict_function_trained at 0x7f204a46d990> triggered tf.function retracing. Tracing is expensive and the excessive number of tracings could be due to (1) creating @tf.function repeatedly in a loop, (2) passing tensors with different shapes, (3) passing Python objects instead of tensors. For (1), please define your @tf.function outside of the loop. For (2), @tf.function has reduce_retracing=True option that can avoid unnecessary retracing. For (3), please refer to https://www.tensorflow.org/guide/function#controlling_retracing and https://www.tensorflow.org/api_docs/python/tf/function for  more details.\n"
          ]
        },
        {
          "output_type": "stream",
          "name": "stdout",
          "text": [
            "1/1 [==============================] - 0s 135ms/step\n",
            "1/1 [==============================] - 0s 348ms/step - loss: 0.0000e+00 - accuracy: 0.9106 - binary_crossentropy: 0.2822\n",
            "##### Fold 4\n",
            "Warning: Some of the feature names have been changed automatically to be compatible with SavedModels because fix_feature_names=True.\n"
          ]
        },
        {
          "output_type": "stream",
          "name": "stderr",
          "text": [
            "WARNING:absl:Some of the feature names have been changed automatically to be compatible with SavedModels because fix_feature_names=True.\n"
          ]
        },
        {
          "output_type": "stream",
          "name": "stdout",
          "text": [
            "Warning: Some of the feature names have been changed automatically to be compatible with SavedModels because fix_feature_names=True.\n"
          ]
        },
        {
          "output_type": "stream",
          "name": "stderr",
          "text": [
            "WARNING:absl:Some of the feature names have been changed automatically to be compatible with SavedModels because fix_feature_names=True.\n"
          ]
        },
        {
          "output_type": "stream",
          "name": "stdout",
          "text": [
            "Use /tmp/tmpby9f429h as temporary training directory\n",
            "Reading training dataset...\n",
            "Training dataset read in 0:00:00.959293. Found 494 examples.\n",
            "Training model...\n",
            "Model trained in 0:00:00.085943\n",
            "Compiling model...\n",
            "Model compiled.\n",
            "1/1 [==============================] - 0s 128ms/step\n",
            "1/1 [==============================] - 0s 380ms/step - loss: 0.0000e+00 - accuracy: 0.8862 - binary_crossentropy: 0.2695\n",
            "##### Fold 5\n",
            "Warning: Some of the feature names have been changed automatically to be compatible with SavedModels because fix_feature_names=True.\n"
          ]
        },
        {
          "output_type": "stream",
          "name": "stderr",
          "text": [
            "WARNING:absl:Some of the feature names have been changed automatically to be compatible with SavedModels because fix_feature_names=True.\n"
          ]
        },
        {
          "output_type": "stream",
          "name": "stdout",
          "text": [
            "Warning: Some of the feature names have been changed automatically to be compatible with SavedModels because fix_feature_names=True.\n"
          ]
        },
        {
          "output_type": "stream",
          "name": "stderr",
          "text": [
            "WARNING:absl:Some of the feature names have been changed automatically to be compatible with SavedModels because fix_feature_names=True.\n"
          ]
        },
        {
          "output_type": "stream",
          "name": "stdout",
          "text": [
            "Use /tmp/tmpm5myr3ml as temporary training directory\n",
            "Reading training dataset...\n"
          ]
        },
        {
          "output_type": "stream",
          "name": "stderr",
          "text": [
            "WARNING:tensorflow:5 out of the last 5 calls to <function CoreModel._consumes_training_examples_until_eof at 0x7f2060b5a320> triggered tf.function retracing. Tracing is expensive and the excessive number of tracings could be due to (1) creating @tf.function repeatedly in a loop, (2) passing tensors with different shapes, (3) passing Python objects instead of tensors. For (1), please define your @tf.function outside of the loop. For (2), @tf.function has reduce_retracing=True option that can avoid unnecessary retracing. For (3), please refer to https://www.tensorflow.org/guide/function#controlling_retracing and https://www.tensorflow.org/api_docs/python/tf/function for  more details.\n"
          ]
        },
        {
          "output_type": "stream",
          "name": "stdout",
          "text": [
            "Training dataset read in 0:00:00.967452. Found 494 examples.\n",
            "Training model...\n",
            "Model trained in 0:00:00.084599\n",
            "Compiling model...\n",
            "Model compiled.\n"
          ]
        },
        {
          "output_type": "stream",
          "name": "stderr",
          "text": [
            "WARNING:tensorflow:5 out of the last 5 calls to <function InferenceCoreModel.yggdrasil_model_path_tensor at 0x7f204a536200> triggered tf.function retracing. Tracing is expensive and the excessive number of tracings could be due to (1) creating @tf.function repeatedly in a loop, (2) passing tensors with different shapes, (3) passing Python objects instead of tensors. For (1), please define your @tf.function outside of the loop. For (2), @tf.function has reduce_retracing=True option that can avoid unnecessary retracing. For (3), please refer to https://www.tensorflow.org/guide/function#controlling_retracing and https://www.tensorflow.org/api_docs/python/tf/function for  more details.\n"
          ]
        },
        {
          "output_type": "stream",
          "name": "stdout",
          "text": [
            "1/1 [==============================] - 0s 124ms/step\n"
          ]
        },
        {
          "output_type": "stream",
          "name": "stderr",
          "text": [
            "WARNING:tensorflow:5 out of the last 5 calls to <function InferenceCoreModel.make_test_function.<locals>.test_function at 0x7f204a536c20> triggered tf.function retracing. Tracing is expensive and the excessive number of tracings could be due to (1) creating @tf.function repeatedly in a loop, (2) passing tensors with different shapes, (3) passing Python objects instead of tensors. For (1), please define your @tf.function outside of the loop. For (2), @tf.function has reduce_retracing=True option that can avoid unnecessary retracing. For (3), please refer to https://www.tensorflow.org/guide/function#controlling_retracing and https://www.tensorflow.org/api_docs/python/tf/function for  more details.\n"
          ]
        },
        {
          "output_type": "stream",
          "name": "stdout",
          "text": [
            "1/1 [==============================] - 0s 366ms/step - loss: 0.0000e+00 - accuracy: 0.9593 - binary_crossentropy: 0.2176\n"
          ]
        }
      ]
    },
    {
      "cell_type": "code",
      "source": [
        "# visualization models\n",
        "\n",
        "figure, axis = plt.subplots(3, 2, figsize=(10, 10))\n",
        "plt.subplots_adjust(hspace=0.5, wspace=0.3)\n",
        "\n",
        "for i, fold_no in enumerate(models.keys()):\n",
        "    row = i//2\n",
        "    col = i % 2\n",
        "    logs = models[fold_no].make_inspector().training_logs()\n",
        "    axis[row, col].plot([log.num_trees for log in logs], [log.evaluation.loss for log in logs])\n",
        "    axis[row, col].set_title(f\"Fold {i+1}\")\n",
        "    axis[row, col].set_xlabel('Number of trees')\n",
        "    axis[row, col].set_ylabel('Loss (out-of-bag)')\n",
        "\n",
        "axis[2][1].set_visible(False)\n",
        "plt.show()"
      ],
      "metadata": {
        "colab": {
          "base_uri": "https://localhost:8080/",
          "height": 872
        },
        "id": "n8rdQ0AlitES",
        "outputId": "6b434c61-3056-462f-f58d-f987d357315f"
      },
      "execution_count": null,
      "outputs": [
        {
          "output_type": "display_data",
          "data": {
            "text/plain": [
              "<Figure size 1000x1000 with 6 Axes>"
            ],
            "image/png": "[encoded data removed]"
          },
          "metadata": {}
        }
      ]
    },
    {
      "cell_type": "code",
      "source": [
        "for _model in  models:\n",
        "    average_loss = cross_entropy[_model]\n",
        "    average_acc = accuracy[_model]\n",
        "    print(f\"{_model}: accuracy: {accuracy[_model]:.4f} loss: {cross_entropy[_model]:.4f}\")\n"
      ],
      "metadata": {
        "colab": {
          "base_uri": "https://localhost:8080/"
        },
        "id": "BmArDYYYitB6",
        "outputId": "2a127e03-f449-42ab-dbcc-a2d4104e2f19"
      },
      "execution_count": null,
      "outputs": [
        {
          "output_type": "stream",
          "name": "stdout",
          "text": [
            "fold_1: accuracy: 0.9355 loss: 0.2311\n",
            "fold_2: accuracy: 0.9113 loss: 0.2586\n",
            "fold_3: accuracy: 0.9106 loss: 0.2822\n",
            "fold_4: accuracy: 0.8862 loss: 0.2695\n",
            "fold_5: accuracy: 0.9593 loss: 0.2176\n"
          ]
        }
      ]
    },
    {
      "cell_type": "code",
      "source": [
        "# show some important variables\n",
        "\n",
        "inspector = models['fold_1'].make_inspector()\n",
        "\n",
        "print(f\"Available variable importances:\")\n",
        "for importance in inspector.variable_importances().keys():\n",
        "  print(\"\\t\", importance)"
      ],
      "metadata": {
        "colab": {
          "base_uri": "https://localhost:8080/"
        },
        "id": "3UjJIs2uisxE",
        "outputId": "96909a82-3cec-4d4d-c3ef-2c2d067db8fa"
      },
      "execution_count": null,
      "outputs": [
        {
          "output_type": "stream",
          "name": "stdout",
          "text": [
            "Available variable importances:\n",
            "\t NUM_NODES\n",
            "\t NUM_AS_ROOT\n",
            "\t SUM_SCORE\n",
            "\t INV_MEAN_MIN_DEPTH\n"
          ]
        }
      ]
    },
    {
      "cell_type": "code",
      "source": [
        "# Each line is: (feature name, (index of the feature), importance score)\n",
        "inspector.variable_importances()[\"NUM_AS_ROOT\"]"
      ],
      "metadata": {
        "colab": {
          "base_uri": "https://localhost:8080/"
        },
        "id": "5mlwDf085CbR",
        "outputId": "75be3ee7-2401-4d39-d795-cbd807830987"
      },
      "execution_count": null,
      "outputs": [
        {
          "output_type": "execute_result",
          "data": {
            "text/plain": [
              "[(\"DU\" (1; #32), 6.0),\n",
              " (\"BQ\" (1; #12), 4.0),\n",
              " (\"DA\" (1; #25), 4.0),\n",
              " (\"DI\" (1; #29), 4.0),\n",
              " (\"EB\" (1; #35), 4.0),\n",
              " (\"AB\" (1; #0), 3.0),\n",
              " (\"CC\" (1; #16), 3.0),\n",
              " (\"FL\" (1; #47), 3.0),\n",
              " (\"GL\" (1; #55), 3.0),\n",
              " (\"AF\" (1; #1), 2.0),\n",
              " (\"AR\" (1; #4), 2.0),\n",
              " (\"CD_\" (1; #17), 2.0),\n",
              " (\"FD_\" (1; #44), 2.0),\n",
              " (\"FR\" (1; #48), 2.0),\n",
              " (\"BN\" (1; #10), 1.0),\n",
              " (\"CR\" (1; #21), 1.0),\n",
              " (\"DH\" (1; #28), 1.0),\n",
              " (\"EE\" (1; #36), 1.0),\n",
              " (\"EH\" (1; #38), 1.0),\n",
              " (\"FI\" (1; #46), 1.0)]"
            ]
          },
          "metadata": {},
          "execution_count": 18
        }
      ]
    },
    {
      "cell_type": "code",
      "source": [
        "import os\n",
        "\n",
        "# Mount Google Drive\n",
        "from google.colab import drive\n",
        "drive.mount('/content/drive')\n",
        "\n",
        "# Create a folder in the root directory\n",
        "!mkdir -p \"/content/drive/My Drive/My Folder\"\n",
        "\n",
        "# Write a sample file to Google Drive\n",
        "with open('/content/drive/My Drive/My Folder/sample.txt', 'w') as f:\n",
        "  f.write('Hello, World!')"
      ],
      "metadata": {
        "colab": {
          "base_uri": "https://localhost:8080/"
        },
        "id": "koaXAXDMg9fx",
        "outputId": "07030959-21f9-48bd-9cfa-17dbc8d51610"
      },
      "execution_count": null,
      "outputs": [
        {
          "output_type": "stream",
          "name": "stdout",
          "text": [
            "Drive already mounted at /content/drive; to attempt to forcibly remount, call drive.mount(\"/content/drive\", force_remount=True).\n"
          ]
        }
      ]
    }
  ]
}